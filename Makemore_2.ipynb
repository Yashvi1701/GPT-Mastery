{
  "cells": [
    {
      "cell_type": "markdown",
      "source": [
        "We are upgrading our model from bigrams to Multi Layer Perceptrons\n",
        "\n",
        "-Like word embeddings where words are embedded in n dimension(30 in researh paper) space to identify the patterns; we'll use 2D space to embed letters (character language model)\n",
        "\n",
        "-We'll then use cross entropy loss function to calculate loss and divide the data into train dev and test sets to check over/under fitting"
      ],
      "metadata": {
        "id": "tngRhokeanrQ"
      }
    },
    {
      "cell_type": "code",
      "execution_count": 1,
      "metadata": {
        "id": "eH1D2vj7-Had"
      },
      "outputs": [],
      "source": [
        "import numpy as np\n",
        "import torch\n",
        "import torch.nn.functional as F\n",
        "import matplotlib.pyplot as plt\n",
        "import math"
      ]
    },
    {
      "cell_type": "code",
      "execution_count": 2,
      "metadata": {
        "colab": {
          "base_uri": "https://localhost:8080/"
        },
        "id": "00zMiXLp-PAE",
        "outputId": "2fedf92f-8145-4dda-df0b-dcc7cea4b3fd"
      },
      "outputs": [
        {
          "output_type": "execute_result",
          "data": {
            "text/plain": [
              "['emma', 'olivia', 'ava', 'isabella', 'sophia', 'charlotte', 'mia', 'amelia']"
            ]
          },
          "metadata": {},
          "execution_count": 2
        }
      ],
      "source": [
        "#Do a embedding in a muti dimensional space(m=30), so each word will be a vector in 30 dimensional space.\n",
        "#Initially these are spread out randomly, we tune it with backpropagation\n",
        "# read in all the words\n",
        "words = open('names.txt', 'r').read().splitlines()\n",
        "words[:8]"
      ]
    },
    {
      "cell_type": "code",
      "execution_count": 3,
      "metadata": {
        "colab": {
          "base_uri": "https://localhost:8080/"
        },
        "id": "XbnCOfT0jI4K",
        "outputId": "e577b736-c40e-45e0-8a13-59e79c7e371f"
      },
      "outputs": [
        {
          "output_type": "stream",
          "name": "stdout",
          "text": [
            "{'a': 1, 'b': 2, 'c': 3, 'd': 4, 'e': 5, 'f': 6, 'g': 7, 'h': 8, 'i': 9, 'j': 10, 'k': 11, 'l': 12, 'm': 13, 'n': 14, 'o': 15, 'p': 16, 'q': 17, 'r': 18, 's': 19, 't': 20, 'u': 21, 'v': 22, 'w': 23, 'x': 24, 'y': 25, 'z': 26}\n"
          ]
        }
      ],
      "source": [
        "# build the vocabulary of characters and mappings to/from integers\n",
        "chars = sorted(list(set(''.join(words))))\n",
        "#print(chars)\n",
        "stoi = {s:i+1 for i,s in enumerate(chars)}\n",
        "print(stoi)\n",
        "stoi['.'] = 0\n",
        "itos = {i:s for s,i in stoi.items()}\n",
        "#print(itos)"
      ]
    },
    {
      "cell_type": "code",
      "execution_count": 4,
      "metadata": {
        "colab": {
          "base_uri": "https://localhost:8080/"
        },
        "id": "kmJDXfPX5b1M",
        "outputId": "13fb2b66-147d-4d64-ee4c-123895e60f28"
      },
      "outputs": [
        {
          "output_type": "stream",
          "name": "stdout",
          "text": [
            "tensor([[ 0,  0,  0],\n",
            "        [ 0,  0,  5],\n",
            "        [ 0,  5, 13],\n",
            "        ...,\n",
            "        [26, 26, 25],\n",
            "        [26, 25, 26],\n",
            "        [25, 26, 24]])\n",
            "tensor([ 5, 13, 13,  ..., 26, 24,  0])\n"
          ]
        }
      ],
      "source": [
        "# build the dataset\n",
        "\n",
        "block_size = 3 # context length: how many characters do we take to predict the next one?\n",
        "X, Y = [], []\n",
        "for w in words:\n",
        "\n",
        "  #print(w)\n",
        "  context = [0] * block_size\n",
        "  #print(context)\n",
        "  for ch in w + '.':\n",
        "    ix = stoi[ch]\n",
        "    #print(ix)\n",
        "    X.append(context)\n",
        "    Y.append(ix)\n",
        "    #print(''.join(itos[i] for i in context), '--->', itos[ix])\n",
        "    context = context[1:] + [ix] # crop and append\n",
        "    #print(context)\n",
        "\n",
        "X = torch.tensor(X)\n",
        "print(X)\n",
        "Y = torch.tensor(Y)\n",
        "print(Y)"
      ]
    },
    {
      "cell_type": "code",
      "execution_count": 5,
      "metadata": {
        "colab": {
          "base_uri": "https://localhost:8080/"
        },
        "id": "4awLN0DJ6wPS",
        "outputId": "65bce577-7440-4d8e-b33e-d86c64521b7f"
      },
      "outputs": [
        {
          "output_type": "execute_result",
          "data": {
            "text/plain": [
              "(torch.Size([228146, 3]), torch.int64, torch.Size([228146]), torch.int64)"
            ]
          },
          "metadata": {},
          "execution_count": 5
        }
      ],
      "source": [
        "X.shape, X.dtype, Y.shape, Y.dtype\n",
        "#print(X[13,2])"
      ]
    },
    {
      "cell_type": "code",
      "execution_count": 6,
      "metadata": {
        "colab": {
          "base_uri": "https://localhost:8080/"
        },
        "id": "31cwmxbx9UZF",
        "outputId": "7d7bcc25-e81f-48c9-bd02-7dcb1289fcb7"
      },
      "outputs": [
        {
          "output_type": "stream",
          "name": "stdout",
          "text": [
            "tensor([-0.8037,  0.6108])\n",
            "tensor([0., 0., 0., 0., 0., 1., 0., 0., 0., 0., 0., 0., 0., 0., 0., 0., 0., 0.,\n",
            "        0., 0., 0., 0., 0., 0., 0., 0., 0.])\n"
          ]
        },
        {
          "output_type": "execute_result",
          "data": {
            "text/plain": [
              "tensor([-0.8037,  0.6108])"
            ]
          },
          "metadata": {},
          "execution_count": 6
        }
      ],
      "source": [
        "# We are dealing with letter(27) and not words so intstead of embedding 17,000 words in a 30 dimensional space\n",
        "#We'll embedd 27 vectors corresponding to the letters in a 2D space\n",
        "C = torch.randn((27, 2))\n",
        "print(C[5])\n",
        "#Another way to form C\n",
        "print(F.one_hot(torch.tensor(5), num_classes=27).float())\n",
        "F.one_hot(torch.tensor(5), num_classes=27).float()@C #it will do the one hot encoding of the number 5 and ensure total 27 ho becoz 27 letters\n"
      ]
    },
    {
      "cell_type": "code",
      "execution_count": 7,
      "metadata": {
        "colab": {
          "base_uri": "https://localhost:8080/"
        },
        "id": "1QTTc3z0pGks",
        "outputId": "04c9dbbb-ac9b-4218-fedd-7aec54e4b5a7"
      },
      "outputs": [
        {
          "output_type": "execute_result",
          "data": {
            "text/plain": [
              "torch.Size([228146, 3, 2])"
            ]
          },
          "metadata": {},
          "execution_count": 7
        }
      ],
      "source": [
        "emb=C[X]\n",
        "emb.shape"
      ]
    },
    {
      "cell_type": "code",
      "execution_count": 8,
      "metadata": {
        "colab": {
          "base_uri": "https://localhost:8080/"
        },
        "id": "apHHrbJYpbt8",
        "outputId": "fb3e82ab-dd6f-4c3f-cae4-ea66fa3a941e"
      },
      "outputs": [
        {
          "output_type": "execute_result",
          "data": {
            "text/plain": [
              "torch.Size([228146, 6])"
            ]
          },
          "metadata": {},
          "execution_count": 8
        }
      ],
      "source": [
        "W1=torch.randn(6,100) #Number of inputs=6, 2 features for each letter and total 3 letters in one input example\n",
        "#Number of neurons is upto us, so we took 100\n",
        "b1=torch.randn(100)\n",
        "#We can't directly use W1@emb+b1 as the emb dimension is 3X2\n",
        "torch.cat([emb[:, 0, :],emb[:, 1, :],emb[:, 2, :]], 1).shape #Column ke about concatenate ho jayega\n",
        "#This would not generalise if we change the block size from 3 to something else"
      ]
    },
    {
      "cell_type": "code",
      "execution_count": 9,
      "metadata": {
        "id": "PHdTgTqPCNeA"
      },
      "outputs": [],
      "source": [
        "h=torch.tanh(emb.view(emb.shape[0], 6)@W1+b1)"
      ]
    },
    {
      "cell_type": "code",
      "execution_count": 10,
      "metadata": {
        "colab": {
          "base_uri": "https://localhost:8080/"
        },
        "id": "MaKPubKeu6c6",
        "outputId": "16b4f437-e772-4cd4-f75a-2938aea8fd83"
      },
      "outputs": [
        {
          "output_type": "execute_result",
          "data": {
            "text/plain": [
              "tensor([[-0.7283,  0.3086, -0.7283,  0.3086, -0.7283,  0.3086],\n",
              "        [-0.7283,  0.3086, -0.7283,  0.3086, -0.8037,  0.6108],\n",
              "        [-0.7283,  0.3086, -0.8037,  0.6108,  1.1811,  0.1280],\n",
              "        ...,\n",
              "        [-0.0567, -1.0210, -0.0567, -1.0210, -0.9227,  0.5604],\n",
              "        [-0.0567, -1.0210, -0.9227,  0.5604, -0.0567, -1.0210],\n",
              "        [-0.9227,  0.5604, -0.0567, -1.0210, -0.2811, -0.2059]])"
            ]
          },
          "metadata": {},
          "execution_count": 10
        }
      ],
      "source": [
        "#print(torch.unbind(emb, 1))\n",
        "#torch.cat(torch.unbind(emb,1),1).shape\n",
        "torch.cat(torch.unbind(emb,1),1)#Unefficient .cat() method as it creates new memory"
      ]
    },
    {
      "cell_type": "code",
      "execution_count": 11,
      "metadata": {
        "colab": {
          "base_uri": "https://localhost:8080/"
        },
        "id": "8WysbhD50uua",
        "outputId": "cc71ff1d-9848-472b-8109-4069ad22aa02"
      },
      "outputs": [
        {
          "output_type": "execute_result",
          "data": {
            "text/plain": [
              "tensor([[[ 0,  1,  2],\n",
              "         [ 3,  4,  5],\n",
              "         [ 6,  7,  8]],\n",
              "\n",
              "        [[ 9, 10, 11],\n",
              "         [12, 13, 14],\n",
              "         [15, 16, 17]]])"
            ]
          },
          "metadata": {},
          "execution_count": 11
        }
      ],
      "source": [
        "#More efficient ways to do this\n",
        "a=torch.arange(18)\n",
        "a.view(2,9)\n",
        "a.view(2,3,3)\n",
        "#All arrays are stored in a 1D array in computer"
      ]
    },
    {
      "cell_type": "code",
      "execution_count": 12,
      "metadata": {
        "colab": {
          "base_uri": "https://localhost:8080/"
        },
        "id": "qSjQI4Ll1ua0",
        "outputId": "23d60d57-b6f6-449b-f5e2-79a2a56efa73"
      },
      "outputs": [
        {
          "output_type": "execute_result",
          "data": {
            "text/plain": [
              "tensor([[-0.7283,  0.3086, -0.7283,  0.3086, -0.7283,  0.3086],\n",
              "        [-0.7283,  0.3086, -0.7283,  0.3086, -0.8037,  0.6108],\n",
              "        [-0.7283,  0.3086, -0.8037,  0.6108,  1.1811,  0.1280],\n",
              "        ...,\n",
              "        [-0.0567, -1.0210, -0.0567, -1.0210, -0.9227,  0.5604],\n",
              "        [-0.0567, -1.0210, -0.9227,  0.5604, -0.0567, -1.0210],\n",
              "        [-0.9227,  0.5604, -0.0567, -1.0210, -0.2811, -0.2059]])"
            ]
          },
          "metadata": {},
          "execution_count": 12
        }
      ],
      "source": [
        "#emb.storage()\n",
        "emb.view(-1,6)\n",
        "#emb.view(32,6)==torch.cat(torch.unbind(emb,1),1)"
      ]
    },
    {
      "cell_type": "code",
      "execution_count": 13,
      "metadata": {
        "colab": {
          "base_uri": "https://localhost:8080/"
        },
        "id": "3ny5uEHs1upX",
        "outputId": "2a9f54d2-a181-4bd0-84f2-a678ff5f17e8"
      },
      "outputs": [
        {
          "output_type": "execute_result",
          "data": {
            "text/plain": [
              "torch.Size([228146, 27])"
            ]
          },
          "metadata": {},
          "execution_count": 13
        }
      ],
      "source": [
        "W2=torch.randn(100,27)\n",
        "b2=torch.randn(27)\n",
        "logits=h@W2+b2\n",
        "logits.shape"
      ]
    },
    {
      "cell_type": "code",
      "execution_count": 14,
      "metadata": {
        "id": "CEIOdayEFAcS"
      },
      "outputs": [],
      "source": [
        "counts=logits.exp()\n",
        "prob=counts/counts.sum(1, keepdim=True)\n",
        "#prob[0].sum()"
      ]
    },
    {
      "cell_type": "code",
      "execution_count": 15,
      "metadata": {
        "id": "S2Of1aKeFd-C"
      },
      "outputs": [],
      "source": [
        "prob[torch.arange(X.shape[0]), Y].shape\n",
        "loss=-prob[torch.arange(X.shape[0]), Y].log().mean()"
      ]
    },
    {
      "cell_type": "code",
      "execution_count": 16,
      "metadata": {
        "id": "oDtvqk4LIN-i"
      },
      "outputs": [],
      "source": [
        "g = torch.Generator().manual_seed(2147483647) # for reproducibility\n",
        "C = torch.randn((27, 2), generator=g)\n",
        "W1 = torch.randn((6, 100), generator=g)\n",
        "b1 = torch.randn(100, generator=g)\n",
        "W2 = torch.randn((100, 27), generator=g)\n",
        "b2 = torch.randn(27, generator=g)\n",
        "parameters = [C, W1, b1, W2, b2]"
      ]
    },
    {
      "cell_type": "code",
      "execution_count": 17,
      "metadata": {
        "colab": {
          "base_uri": "https://localhost:8080/"
        },
        "id": "siH4G67GIkJm",
        "outputId": "60f3201e-0d09-4792-ac32-17a07c8a510a"
      },
      "outputs": [
        {
          "output_type": "execute_result",
          "data": {
            "text/plain": [
              "3481"
            ]
          },
          "metadata": {},
          "execution_count": 17
        }
      ],
      "source": [
        "sum(p.nelement() for p in parameters) # number of parameters in total"
      ]
    },
    {
      "cell_type": "code",
      "execution_count": 18,
      "metadata": {
        "colab": {
          "base_uri": "https://localhost:8080/"
        },
        "id": "GCfVaWVWIkvn",
        "outputId": "62af28e4-a4b9-44cc-8971-72a71d52f70f"
      },
      "outputs": [
        {
          "output_type": "execute_result",
          "data": {
            "text/plain": [
              "tensor(14.5775)"
            ]
          },
          "metadata": {},
          "execution_count": 18
        }
      ],
      "source": [
        "emb=C[X]\n",
        "h=torch.tanh(emb.view(-1,6)@W1+b1)\n",
        "# logits=h@W2+b2\n",
        "# counts=logits.exp()\n",
        "# prob=counts/counts.sum(1, keepdim=True)\n",
        "# loss=-prob[torch.arange(32), Y].log().mean()\n",
        "# loss\n",
        "#Also if very high number is put in the above formula we might get infinity in the counts\n",
        "\n",
        "#More efficient algorithm\n",
        "F.cross_entropy(logits, Y)"
      ]
    },
    {
      "cell_type": "code",
      "execution_count": 19,
      "metadata": {
        "id": "ktvRuQWRJa-i"
      },
      "outputs": [],
      "source": [
        "F.cross_entropy(logits, Y)\n",
        "for p in parameters:\n",
        "  p.requires_grad=True"
      ]
    },
    {
      "cell_type": "code",
      "execution_count": 20,
      "metadata": {
        "id": "IYzP6CfzV2Nb"
      },
      "outputs": [],
      "source": [
        "lre = torch.linspace(-3, 0, 10000)\n",
        "lrs = 10**lre\n",
        "lri = []\n",
        "lossi = []\n",
        "stepi = []"
      ]
    },
    {
      "cell_type": "code",
      "execution_count": 21,
      "metadata": {
        "colab": {
          "base_uri": "https://localhost:8080/"
        },
        "id": "JArAlMU3MkfW",
        "outputId": "de14c49c-9b37-4792-a1cb-4e7ffeebca07"
      },
      "outputs": [
        {
          "output_type": "stream",
          "name": "stdout",
          "text": [
            "3.599872350692749\n"
          ]
        }
      ],
      "source": [
        "for i in range(10000):#Can do it for 100000 to get a very low loss\n",
        "  #mini batches\n",
        "  ix = torch.randint(0, X.shape[0], (32,))\n",
        "\n",
        "  #forward pass\n",
        "  emb = C[X[ix]] # (32, 3, 10)\n",
        "  h = torch.tanh(emb.view(-1, 6) @ W1 + b1) # (32, 200)\n",
        "  logits = h @ W2 + b2 # (32, 27)\n",
        "  loss = F.cross_entropy(logits, Y[ix])\n",
        "  #print(loss.item())\n",
        "\n",
        "  # backward pass\n",
        "  for p in parameters:\n",
        "    p.grad = None\n",
        "  loss.backward()\n",
        "\n",
        "  # update\n",
        "  lr = lrs[i]\n",
        "  #lr = 0.1 if i < 100000 else 0.01\n",
        "  for p in parameters:\n",
        "    p.data += -lr * p.grad\n",
        "\n",
        "  # track stats\n",
        "  lri.append(lre[i])\n",
        "  stepi.append(i)\n",
        "  lossi.append(loss.log10().item())\n",
        "\n",
        "print(loss.item())"
      ]
    },
    {
      "cell_type": "code",
      "execution_count": 22,
      "metadata": {
        "colab": {
          "base_uri": "https://localhost:8080/"
        },
        "id": "odcEC95TUNls",
        "outputId": "141bf52a-949c-4a56-b8d2-0f6d074ca775"
      },
      "outputs": [
        {
          "output_type": "execute_result",
          "data": {
            "text/plain": [
              "tensor(3.8609, grad_fn=<NllLossBackward0>)"
            ]
          },
          "metadata": {},
          "execution_count": 22
        }
      ],
      "source": [
        "emb = C[X] # (32, 3, 2)\n",
        "h = torch.tanh(emb.view(-1, 6) @ W1 + b1) # (32, 100)\n",
        "logits = h @ W2 + b2 # (32, 27)\n",
        "loss = F.cross_entropy(logits, Y)\n",
        "loss #loss for all the examples"
      ]
    },
    {
      "cell_type": "code",
      "execution_count": 23,
      "metadata": {
        "colab": {
          "base_uri": "https://localhost:8080/",
          "height": 451
        },
        "id": "cdPxETRjWs4j",
        "outputId": "f95e5fef-5e57-4f27-fa4c-37dc1aa0055b"
      },
      "outputs": [
        {
          "output_type": "execute_result",
          "data": {
            "text/plain": [
              "[<matplotlib.lines.Line2D at 0x7f99380313c0>]"
            ]
          },
          "metadata": {},
          "execution_count": 23
        },
        {
          "output_type": "display_data",
          "data": {
            "text/plain": [
              "<Figure size 640x480 with 1 Axes>"
            ],
            "image/png": "[encoded data removed]"
          },
          "metadata": {}
        }
      ],
      "source": [
        "plt.plot(stepi, lossi)"
      ]
    },
    {
      "cell_type": "code",
      "source": [
        "#training split, data validation split, test split\n",
        "#80,10,10\n",
        "# build the dataset\n",
        "block_size = 3 # context length: how many characters do we take to predict the next one?\n",
        "\n",
        "def build_dataset(words):\n",
        "  X, Y = [], []\n",
        "  for w in words:\n",
        "\n",
        "    #print(w)\n",
        "    context = [0] * block_size\n",
        "    for ch in w + '.':\n",
        "      ix = stoi[ch]\n",
        "      X.append(context)\n",
        "      Y.append(ix)\n",
        "      #print(''.join(itos[i] for i in context), '--->', itos[ix])\n",
        "      context = context[1:] + [ix] # crop and append\n",
        "\n",
        "  X = torch.tensor(X)\n",
        "  Y = torch.tensor(Y)\n",
        "  print(X.shape, Y.shape)\n",
        "  return X, Y\n",
        "\n",
        "import random\n",
        "random.seed(42)\n",
        "random.shuffle(words)\n",
        "n1 = int(0.8*len(words))\n",
        "n2 = int(0.9*len(words))\n",
        "\n",
        "Xtr, Ytr = build_dataset(words[:n1]) #80% for training\n",
        "Xdev, Ydev = build_dataset(words[n1:n2])#10% for dev\n",
        "Xte, Yte = build_dataset(words[n2:])#10% for testing"
      ],
      "metadata": {
        "colab": {
          "base_uri": "https://localhost:8080/"
        },
        "id": "D8_1VL0IjxHu",
        "outputId": "8efe59ed-cba3-4eed-f209-1c7ee83a7227"
      },
      "execution_count": 24,
      "outputs": [
        {
          "output_type": "stream",
          "name": "stdout",
          "text": [
            "torch.Size([182625, 3]) torch.Size([182625])\n",
            "torch.Size([22655, 3]) torch.Size([22655])\n",
            "torch.Size([22866, 3]) torch.Size([22866])\n"
          ]
        }
      ]
    },
    {
      "cell_type": "code",
      "source": [
        "g = torch.Generator().manual_seed(2147483647) # for reproducibility\n",
        "C = torch.randn((27, 10), generator=g)\n",
        "W1 = torch.randn((30, 200), generator=g)\n",
        "b1 = torch.randn(200, generator=g)\n",
        "W2 = torch.randn((200, 27), generator=g)\n",
        "b2 = torch.randn(27, generator=g)\n",
        "parameters = [C, W1, b1, W2, b2]"
      ],
      "metadata": {
        "id": "yvtLfTEKleeZ"
      },
      "execution_count": 25,
      "outputs": []
    },
    {
      "cell_type": "code",
      "source": [
        "sum(p.nelement() for p in parameters) # number of parameters in total"
      ],
      "metadata": {
        "colab": {
          "base_uri": "https://localhost:8080/"
        },
        "id": "al4b8J35mD9I",
        "outputId": "b3d85a67-5c69-47c9-9939-d72c397151d8"
      },
      "execution_count": 26,
      "outputs": [
        {
          "output_type": "execute_result",
          "data": {
            "text/plain": [
              "11897"
            ]
          },
          "metadata": {},
          "execution_count": 26
        }
      ]
    },
    {
      "cell_type": "code",
      "source": [
        "for p in parameters:\n",
        "  p.requires_grad = True"
      ],
      "metadata": {
        "id": "1SnpwuqcmFwM"
      },
      "execution_count": 27,
      "outputs": []
    },
    {
      "cell_type": "code",
      "source": [
        "lre = torch.linspace(-3, 0, 1000)\n",
        "lrs = 10**lre"
      ],
      "metadata": {
        "id": "t7_5spO6mHXA"
      },
      "execution_count": 28,
      "outputs": []
    },
    {
      "cell_type": "code",
      "source": [
        "lri = []\n",
        "lossi = []\n",
        "stepi = []"
      ],
      "metadata": {
        "id": "NRSmlEc0mI4Z"
      },
      "execution_count": 29,
      "outputs": []
    },
    {
      "cell_type": "code",
      "source": [
        "for i in range(200000):\n",
        "\n",
        "  # minibatch construct\n",
        "  ix = torch.randint(0, Xtr.shape[0], (32,))\n",
        "\n",
        "  # forward pass\n",
        "  emb = C[Xtr[ix]] # (32, 3, 10)\n",
        "  h = torch.tanh(emb.view(-1, 30) @ W1 + b1) # (32, 200)\n",
        "  logits = h @ W2 + b2 # (32, 27)\n",
        "  loss = F.cross_entropy(logits, Ytr[ix])\n",
        "  #print(loss.item())\n",
        "\n",
        "  # backward pass\n",
        "  for p in parameters:\n",
        "    p.grad = None\n",
        "  loss.backward()\n",
        "\n",
        "  # update\n",
        "  #lr = lrs[i]\n",
        "  lr = 0.1 if i < 100000 else 0.01\n",
        "  for p in parameters:\n",
        "    p.data += -lr * p.grad\n",
        "\n",
        "  # track stats\n",
        "  #lri.append(lre[i])\n",
        "  stepi.append(i)\n",
        "  lossi.append(loss.log10().item())\n",
        "\n",
        "#print(loss.item())"
      ],
      "metadata": {
        "id": "FkiloAwqmLjX"
      },
      "execution_count": 30,
      "outputs": []
    },
    {
      "cell_type": "code",
      "source": [
        "emb = C[Xtr] # (32, 3, 2)\n",
        "h = torch.tanh(emb.view(-1, 30) @ W1 + b1) # (32, 100)\n",
        "logits = h @ W2 + b2 # (32, 27)\n",
        "loss = F.cross_entropy(logits, Ytr)\n",
        "loss"
      ],
      "metadata": {
        "colab": {
          "base_uri": "https://localhost:8080/"
        },
        "id": "91XH5srMmPYb",
        "outputId": "029faede-ffcc-4088-b6c2-ea4ea7116284"
      },
      "execution_count": 31,
      "outputs": [
        {
          "output_type": "execute_result",
          "data": {
            "text/plain": [
              "tensor(2.1176, grad_fn=<NllLossBackward0>)"
            ]
          },
          "metadata": {},
          "execution_count": 31
        }
      ]
    },
    {
      "cell_type": "code",
      "source": [
        "emb = C[Xdev] # (32, 3, 2)\n",
        "h = torch.tanh(emb.view(-1, 30) @ W1 + b1) # (32, 100)\n",
        "logits = h @ W2 + b2 # (32, 27)\n",
        "loss = F.cross_entropy(logits, Ydev)\n",
        "loss\n",
        "#Here dev and train sets have the same error which means that we are not overfitting we are underfitting\n"
      ],
      "metadata": {
        "colab": {
          "base_uri": "https://localhost:8080/"
        },
        "id": "mxsn3ZG4mwRy",
        "outputId": "a698d87c-8e60-4e7e-c7a8-13975697eb9f"
      },
      "execution_count": 32,
      "outputs": [
        {
          "output_type": "execute_result",
          "data": {
            "text/plain": [
              "tensor(2.1585, grad_fn=<NllLossBackward0>)"
            ]
          },
          "metadata": {},
          "execution_count": 32
        }
      ]
    },
    {
      "cell_type": "code",
      "source": [
        "#It might happen that 27 letters are cramped too much into 2 features. We can try increasing the features also in the above code from 3 to 30\n",
        "# visualize dimensions 0 and 1 of the embedding matrix C for all characters\n",
        "plt.figure(figsize=(8,8))\n",
        "plt.scatter(C[:,0].data, C[:,1].data, s=200)\n",
        "for i in range(C.shape[0]):\n",
        "    plt.text(C[i,0].item(), C[i,1].item(), itos[i], ha=\"center\", va=\"center\", color='white')\n",
        "plt.grid('minor')"
      ],
      "metadata": {
        "colab": {
          "base_uri": "https://localhost:8080/",
          "height": 676
        },
        "id": "8IoQUPT8n1KJ",
        "outputId": "0141d3e5-7f84-4c0c-9d6f-3c38b9750531"
      },
      "execution_count": 33,
      "outputs": [
        {
          "output_type": "display_data",
          "data": {
            "text/plain": [
              "<Figure size 800x800 with 1 Axes>"
            ],
            "image/png": "[encoded data removed]"
          },
          "metadata": {}
        }
      ]
    },
    {
      "cell_type": "code",
      "source": [
        "plt.plot(stepi, lossi)"
      ],
      "metadata": {
        "colab": {
          "base_uri": "https://localhost:8080/",
          "height": 447
        },
        "id": "YJNYBb8rsS1h",
        "outputId": "e1120570-f24a-4ae0-d3d1-3be08a01010f"
      },
      "execution_count": 34,
      "outputs": [
        {
          "output_type": "execute_result",
          "data": {
            "text/plain": [
              "[<matplotlib.lines.Line2D at 0x7f9937edfd00>]"
            ]
          },
          "metadata": {},
          "execution_count": 34
        },
        {
          "output_type": "display_data",
          "data": {
            "text/plain": [
              "<Figure size 640x480 with 1 Axes>"
            ],
            "image/png": "[encoded data removed]"
          },
          "metadata": {}
        }
      ]
    },
    {
      "cell_type": "code",
      "source": [
        "g = torch.Generator().manual_seed(283647 + 10)\n",
        "for i in range(500):\n",
        "  out=[]\n",
        "  context=[0]*block_size\n",
        "  while True:\n",
        "    emb=C[torch.tensor([context])]\n",
        "    h=torch.tanh(emb.view(1, -1)@W1+b1)\n",
        "    logits=h@W2+b2\n",
        "    probs=F.softmax(logits, dim=1)\n",
        "    ix=torch.multinomial(probs, num_samples=1, generator=g).item()\n",
        "    context=context[1:]+[ix]\n",
        "    out.append(ix)\n",
        "    if ix==0:\n",
        "      break\n",
        "  print(''.join(itos[i] for i in out))"
      ],
      "metadata": {
        "colab": {
          "base_uri": "https://localhost:8080/"
        },
        "id": "jnFD_I4XtqFM",
        "outputId": "50da4f6e-b9d5-4263-8572-bca4746719bd"
      },
      "execution_count": 35,
      "outputs": [
        {
          "output_type": "stream",
          "name": "stdout",
          "text": [
            "kellie.\n",
            "brilyn.\n",
            "rositlyn.\n",
            "aren.\n",
            "vaya.\n",
            "kie.\n",
            "briann.\n",
            "neklyn.\n",
            "anna.\n",
            "ashlin.\n",
            "nah.\n",
            "lo.\n",
            "far.\n",
            "emlyn.\n",
            "tie.\n",
            "eakonra.\n",
            "bas.\n",
            "alee.\n",
            "cantharieceana.\n",
            "madyn.\n",
            "aliler.\n",
            "an.\n",
            "uven.\n",
            "zay.\n",
            "jire.\n",
            "sandrestin.\n",
            "wilio.\n",
            "alear.\n",
            "dena.\n",
            "jena.\n",
            "areelesh.\n",
            "jazlina.\n",
            "iven.\n",
            "samya.\n",
            "ferraylia.\n",
            "jasiab.\n",
            "mae.\n",
            "bria.\n",
            "meha.\n",
            "octorie.\n",
            "marishiraliyannah.\n",
            "vis.\n",
            "hazinikaelenelle.\n",
            "kalone.\n",
            "alalande.\n",
            "sivannaqubrixabeth.\n",
            "jenes.\n",
            "meer.\n",
            "mikaima.\n",
            "jen.\n",
            "ell.\n",
            "norienyn.\n",
            "jurran.\n",
            "khyt.\n",
            "azt.\n",
            "bak.\n",
            "nogom.\n",
            "taine.\n",
            "praj.\n",
            "zalina.\n",
            "frne.\n",
            "jhuviana.\n",
            "zaughy.\n",
            "jess.\n",
            "itnadicolnot.\n",
            "adie.\n",
            "jasperainettaniel.\n",
            "kin.\n",
            "taim.\n",
            "miham.\n",
            "camderekell.\n",
            "glode.\n",
            "zaiah.\n",
            "yxa.\n",
            "jarmalineddin.\n",
            "sta.\n",
            "zailiviah.\n",
            "lyny.\n",
            "lylaniell.\n",
            "kin.\n",
            "pristinora.\n",
            "issorah.\n",
            "juer.\n",
            "mard.\n",
            "zykonlus.\n",
            "zhyah.\n",
            "emmires.\n",
            "maha.\n",
            "sammi.\n",
            "galphreslynn.\n",
            "ridyn.\n",
            "zhankelseowfunda.\n",
            "divant.\n",
            "acarie.\n",
            "adtefatal.\n",
            "veinicoae.\n",
            "balisiah.\n",
            "masellillianna.\n",
            "adi.\n",
            "ammiela.\n",
            "albin.\n",
            "auda.\n",
            "wartini.\n",
            "den.\n",
            "seagrifenyonnah.\n",
            "caytanairistis.\n",
            "onsjoyah.\n",
            "fahtarti.\n",
            "eis.\n",
            "coln.\n",
            "lyz.\n",
            "navi.\n",
            "sivik.\n",
            "harigh.\n",
            "jamira.\n",
            "bochy.\n",
            "ramari.\n",
            "jasliyah.\n",
            "hajir.\n",
            "sara.\n",
            "quel.\n",
            "alayna.\n",
            "nerik.\n",
            "keopo.\n",
            "juley.\n",
            "wennalla.\n",
            "kelyam.\n",
            "wainera.\n",
            "sayland.\n",
            "yuon.\n",
            "roste.\n",
            "klynemunie.\n",
            "dalisana.\n",
            "jayah.\n",
            "daleurton.\n",
            "carra.\n",
            "kmin.\n",
            "vya.\n",
            "emila.\n",
            "laclin.\n",
            "andy.\n",
            "sydel.\n",
            "linny.\n",
            "kahniela.\n",
            "haly.\n",
            "eyza.\n",
            "maviub.\n",
            "sheoinin.\n",
            "lorin.\n",
            "nima.\n",
            "alianaynow.\n",
            "ifcin.\n",
            "qolzi.\n",
            "aven.\n",
            "kelli.\n",
            "halin.\n",
            "zayla.\n",
            "brielena.\n",
            "azeeny.\n",
            "emalicianijayve.\n",
            "lin.\n",
            "sea.\n",
            "ivoriio.\n",
            "mirie.\n",
            "laur.\n",
            "izamir.\n",
            "ixvaara.\n",
            "kaylena.\n",
            "suly.\n",
            "duli.\n",
            "fajous.\n",
            "cyvino.\n",
            "yarionnea.\n",
            "prem.\n",
            "luceu.\n",
            "roel.\n",
            "catla.\n",
            "delyyn.\n",
            "aubrandell.\n",
            "andrett.\n",
            "jamaricashbe.\n",
            "taylangelicia.\n",
            "kellani.\n",
            "kerder.\n",
            "johagancolla.\n",
            "tanne.\n",
            "bergeoraja.\n",
            "dek.\n",
            "jerristyn.\n",
            "lee.\n",
            "bryaira.\n",
            "groviyah.\n",
            "gous.\n",
            "shan.\n",
            "payshaz.\n",
            "zohammerik.\n",
            "core.\n",
            "benatys.\n",
            "kaadiffextamaron.\n",
            "maleen.\n",
            "ilyn.\n",
            "dawa.\n",
            "gwe.\n",
            "navodyn.\n",
            "rem.\n",
            "syerise.\n",
            "khanael.\n",
            "chaiah.\n",
            "rinalainlea.\n",
            "kathar.\n",
            "leo.\n",
            "avya.\n",
            "kali.\n",
            "kamedajane.\n",
            "dmon.\n",
            "flayah.\n",
            "mosh.\n",
            "jilion.\n",
            "seliri.\n",
            "kallia.\n",
            "yice.\n",
            "doro.\n",
            "ban.\n",
            "kaleit.\n",
            "bay.\n",
            "moein.\n",
            "jour.\n",
            "lar.\n",
            "sino.\n",
            "farian.\n",
            "ino.\n",
            "vironiyanaa.\n",
            "ziah.\n",
            "groeline.\n",
            "benton.\n",
            "xhyn.\n",
            "jona.\n",
            "vious.\n",
            "ken.\n",
            "lucinne.\n",
            "aadi.\n",
            "oluwa.\n",
            "orahleja.\n",
            "even.\n",
            "quan.\n",
            "grachelee.\n",
            "kachikariaher.\n",
            "aidaeyene.\n",
            "zari.\n",
            "keon.\n",
            "ahmaten.\n",
            "ise.\n",
            "dhaan.\n",
            "mademana.\n",
            "kaslin.\n",
            "zayd.\n",
            "jara.\n",
            "roclarinevia.\n",
            "kenno.\n",
            "kayah.\n",
            "mariaga.\n",
            "leyaireel.\n",
            "tylla.\n",
            "trery.\n",
            "jamim.\n",
            "cen.\n",
            "anesty.\n",
            "amoiliness.\n",
            "amelie.\n",
            "tory.\n",
            "evona.\n",
            "payleah.\n",
            "zheminlamariq.\n",
            "venn.\n",
            "nichoni.\n",
            "nab.\n",
            "shadd.\n",
            "cimotanie.\n",
            "anna.\n",
            "adellasana.\n",
            "calmadtie.\n",
            "marg.\n",
            "siban.\n",
            "rophi.\n",
            "emalin.\n",
            "koryderikia.\n",
            "dadaquanea.\n",
            "ton.\n",
            "kama.\n",
            "amona.\n",
            "jeriana.\n",
            "lidz.\n",
            "ryda.\n",
            "chillia.\n",
            "taina.\n",
            "katleise.\n",
            "saly.\n",
            "navey.\n",
            "muhaan.\n",
            "marielle.\n",
            "tmeyn.\n",
            "emarin.\n",
            "jaer.\n",
            "kinzanitan.\n",
            "zayston.\n",
            "ezyn.\n",
            "aath.\n",
            "mazara.\n",
            "mahidleikandraid.\n",
            "aytridlyn.\n",
            "xillina.\n",
            "kaylee.\n",
            "freigh.\n",
            "oluw.\n",
            "corth.\n",
            "leu.\n",
            "sathannenahnon.\n",
            "tavaney.\n",
            "ole.\n",
            "heiana.\n",
            "cachiah.\n",
            "kipperon.\n",
            "elarrofern.\n",
            "uriona.\n",
            "afiya.\n",
            "azayneire.\n",
            "bei.\n",
            "mikarleighne.\n",
            "kungit.\n",
            "yaumli.\n",
            "tion.\n",
            "paymel.\n",
            "marishon.\n",
            "zera.\n",
            "jah.\n",
            "fy.\n",
            "amia.\n",
            "jisanasha.\n",
            "wanna.\n",
            "lon.\n",
            "razalyanna.\n",
            "rayton.\n",
            "hyla.\n",
            "jenna.\n",
            "mymimi.\n",
            "leenia.\n",
            "daxikle.\n",
            "kerreamarava.\n",
            "barit.\n",
            "pialyn.\n",
            "tiviah.\n",
            "eloo.\n",
            "dadma.\n",
            "rezoree.\n",
            "zeowatoy.\n",
            "aarafind.\n",
            "latooly.\n",
            "hayanna.\n",
            "sairy.\n",
            "makibrayja.\n",
            "makyaver.\n",
            "brani.\n",
            "uzz.\n",
            "mccar.\n",
            "cir.\n",
            "airi.\n",
            "bari.\n",
            "mara.\n",
            "stoni.\n",
            "clynn.\n",
            "carlinglejies.\n",
            "jayo.\n",
            "jureigh.\n",
            "evesrish.\n",
            "elra.\n",
            "leo.\n",
            "nigh.\n",
            "jessleiano.\n",
            "hada.\n",
            "myka.\n",
            "skylburtnierharvelyn.\n",
            "gian.\n",
            "koeanna.\n",
            "maulirnee.\n",
            "nevi.\n",
            "cayden.\n",
            "joicie.\n",
            "amizaidyn.\n",
            "lion.\n",
            "lakingston.\n",
            "zamyah.\n",
            "kreque.\n",
            "adin.\n",
            "anthadayanna.\n",
            "rosephad.\n",
            "alin.\n",
            "lilianeekia.\n",
            "maya.\n",
            "daysenz.\n",
            "bebiknan.\n",
            "zaahaden.\n",
            "kalaizire.\n",
            "orius.\n",
            "mariel.\n",
            "aryanna.\n",
            "joniko.\n",
            "har.\n",
            "millee.\n",
            "jeovi.\n",
            "vere.\n",
            "sah.\n",
            "jamin.\n",
            "makiyonnoera.\n",
            "kerah.\n",
            "zyonna.\n",
            "emmer.\n",
            "nahano.\n",
            "zeha.\n",
            "zarian.\n",
            "katedriam.\n",
            "aut.\n",
            "aliah.\n",
            "hamana.\n",
            "kendyn.\n",
            "bentleem.\n",
            "yustin.\n",
            "adja.\n",
            "yatlinley.\n",
            "jasellamiia.\n",
            "ellose.\n",
            "aret.\n",
            "helen.\n",
            "bourt.\n",
            "ber.\n",
            "chukwur.\n",
            "jascaelomerio.\n",
            "mingson.\n",
            "zaz.\n",
            "yolanellynn.\n",
            "keis.\n",
            "raxiq.\n",
            "niko.\n",
            "saverlita.\n",
            "jamer.\n",
            "eisa.\n",
            "axon.\n",
            "tem.\n",
            "mira.\n",
            "lyl.\n",
            "hayn.\n",
            "fater.\n",
            "joli.\n",
            "chleenal.\n",
            "zenid.\n",
            "cou.\n",
            "ilophee.\n",
            "luce.\n",
            "johan.\n",
            "haceelian.\n",
            "ariahforelfindelone.\n",
            "ryelina.\n",
            "avmalee.\n",
            "behhaylee.\n",
            "dersheond.\n",
            "eoffee.\n",
            "shra.\n",
            "anya.\n",
            "woan.\n",
            "zuline.\n",
            "kaisimier.\n",
            "jashua.\n",
            "keisasirlie.\n",
            "jerron.\n",
            "neomayvin.\n",
            "jahmi.\n",
            "alyli.\n",
            "eln.\n",
            "siva.\n",
            "kath.\n",
            "aay.\n",
            "arseeya.\n",
            "ino.\n",
            "sun.\n",
            "xakarsyn.\n",
            "zylahmadnaylana.\n",
            "lolis.\n",
            "jelensloah.\n",
            "yaziriessera.\n",
            "dylandina.\n",
            "aziison.\n",
            "mackarie.\n",
            "serrle.\n",
            "kya.\n",
            "ivalynniel.\n",
            "breen.\n",
            "tamareushaydan.\n",
            "wel.\n",
            "lee.\n",
            "aubraenarijana.\n",
            "sta.\n"
          ]
        }
      ]
    }
  ],
  "metadata": {
    "colab": {
      "provenance": []
    },
    "kernelspec": {
      "display_name": "Python 3",
      "name": "python3"
    },
    "language_info": {
      "name": "python"
    }
  },
  "nbformat": 4,
  "nbformat_minor": 0
}